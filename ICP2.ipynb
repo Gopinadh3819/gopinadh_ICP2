{
  "nbformat": 4,
  "nbformat_minor": 0,
  "metadata": {
    "colab": {
      "provenance": []
    },
    "kernelspec": {
      "name": "python3",
      "display_name": "Python 3"
    },
    "language_info": {
      "name": "python"
    }
  },
  "cells": [
    {
      "cell_type": "code",
      "execution_count": 1,
      "metadata": {
        "colab": {
          "base_uri": "https://localhost:8080/"
        },
        "id": "hk-w3lzCpy7w",
        "outputId": "4b75dbb7-2eb3-4dbe-8b42-63b7c0f85608"
      },
      "outputs": [
        {
          "output_type": "stream",
          "name": "stdout",
          "text": [
            "Enter your first name: gopi\n",
            "Enter your last name: nadh\n",
            "Full name: gopi nadh\n",
            "String with every other character: gp ah\n"
          ]
        }
      ],
      "source": [
        "## Q1)\n",
        "\n",
        "def fullname(first_name, last_name):\n",
        "    return first_name + ' ' + last_name       #concatenating the first and last\n",
        "\n",
        "def string_alternative(full_name):\n",
        "    string1 = \"\"                              # Initializing string1\n",
        "    for i in range(0, len(full_name), 2):     #for loop with step count=2\n",
        "        string1 += full_name[i]               #concatenating the alternative char\n",
        "    return string1\n",
        "\n",
        "def main():\n",
        "    first_name = input(\"Enter your first name: \")\n",
        "    last_name = input(\"Enter your last name: \")\n",
        "\n",
        "    full_name = fullname(first_name, last_name)    #passing parameters to function\n",
        "    print(\"Full name:\", full_name)\n",
        "\n",
        "    alternative_string = string_alternative(full_name)\n",
        "    print(\"String with every other character:\", alternative_string)\n",
        "\n",
        "if __name__ == \"__main__\":\n",
        "    main()"
      ]
    },
    {
      "cell_type": "code",
      "source": [
        "## Q2)\n",
        "\n",
        "def word_count_from_file(input_file, output_file):\n",
        "    # Reading the file and combine all lines into one string\n",
        "    with open(input_file, 'r') as file:\n",
        "        all_lines = file.readlines()\n",
        "\n",
        "    all_string = ''.join(all_lines)\n",
        "\n",
        "    # using set for  unique words\n",
        "    set1 = set(all_string.split())\n",
        "\n",
        "    # Creating a dictionary to save the count of each unique word\n",
        "    word_count = {}\n",
        "    for word in set1:\n",
        "        count = all_string.split().count(word)\n",
        "        word_count[word] = count\n",
        "\n",
        "    # Writing  word count to the output file\n",
        "    with open(output_file, 'w') as file:\n",
        "        file.write(\"Original data:\\n\")\n",
        "        file.writelines(all_lines)\n",
        "        file.write(\"\\nWord Count:\\n\")\n",
        "\n",
        "        for word, count in word_count.items():\n",
        "            file.write(f\"{word}: {count}\\n\")\n",
        "\n",
        "    # Print the original data and word count\n",
        "    print(\"Original data:\")\n",
        "    print(\"\".join(all_lines))\n",
        "    print(\"Word Count:\")\n",
        "    for word, count in word_count.items():\n",
        "        print(f\"{word}: {count}\")\n",
        "\n",
        "# Call the function with 'input.txt' and 'output.txt'\n",
        "word_count_from_file('input.txt', 'output.txt')\n"
      ],
      "metadata": {
        "colab": {
          "base_uri": "https://localhost:8080/"
        },
        "id": "DCDgS4pLqmi4",
        "outputId": "c3b5a0a2-37bf-4965-cb3c-abe006167b78"
      },
      "execution_count": 4,
      "outputs": [
        {
          "output_type": "stream",
          "name": "stdout",
          "text": [
            "Original data:\n",
            "Python Course\n",
            "Deep Learning Course\n",
            "\n",
            "Word Count:\n",
            "Learning: 1\n",
            "Python: 1\n",
            "Course: 2\n",
            "Deep: 1\n"
          ]
        }
      ]
    },
    {
      "cell_type": "code",
      "source": [
        "## Q3) Nested Interactive loop\n",
        "\n",
        "def convert_heights(heights_inches):\n",
        "\n",
        "    heights_in_cm = []\n",
        "    for height in heights_inches:\n",
        "        cm = height * 2.54  # Convert inches to centimeters\n",
        "        heights_in_cm.append(cm)\n",
        "    return heights_in_cm  #returns List of heights in centimeters\n",
        "\n",
        "def main_interactive():\n",
        "\n",
        "    heights_inches = []\n",
        "    n = int(input(\"Enter the number of customers: \"))  # Read number of customers\n",
        "    for i in range(n):\n",
        "        height = float(input(f\"Enter height in inches for customer {i+1}: \"))  # Read each height\n",
        "        heights_inches.append(height)\n",
        "\n",
        "    heights_cm = convert_heights(heights_inches)  # Convert heights to centimeters\n",
        "    print(\"Heights in centimeters:\", heights_cm)  # Print the converted heights\n",
        "\n",
        "if __name__ == \"__main__\":\n",
        "    main_interactive()\n"
      ],
      "metadata": {
        "colab": {
          "base_uri": "https://localhost:8080/"
        },
        "id": "EWpo-ZQwwkgu",
        "outputId": "261d206c-7759-4531-a0a2-3f24f408c03b"
      },
      "execution_count": 6,
      "outputs": [
        {
          "output_type": "stream",
          "name": "stdout",
          "text": [
            "Enter the number of customers: 4\n",
            "Enter height in inches for customer 1: 150\n",
            "Enter height in inches for customer 2: 155\n",
            "Enter height in inches for customer 3: 145\n",
            "Enter height in inches for customer 4: 148\n",
            "Heights in centimeters: [381.0, 393.7, 368.3, 375.92]\n"
          ]
        }
      ]
    },
    {
      "cell_type": "code",
      "source": [
        "## Q3) using List Comprehension\n",
        "\n",
        "\n",
        "def convert_heights(heights_inches):\n",
        "\n",
        "    return [height * 2.54 for height in heights_inches]\n",
        "\n",
        "def main_comprehension():\n",
        "    n = int(input(\"Enter the number of customers: \"))  # Read number of customers\n",
        "    heights_inches = [float(input(f\"Enter height in inches for customer {i+1}: \")) for i in range(n)]  # Read each height\n",
        "\n",
        "    heights_cm = convert_heights(heights_inches)  # Convert heights to centimeters using list comprehension\n",
        "    print(\"Heights in centimeters:\", heights_cm)                # Print the converted heights\n",
        "\n",
        "if __name__ == \"__main__\":\n",
        "    main_comprehension()\n"
      ],
      "metadata": {
        "colab": {
          "base_uri": "https://localhost:8080/"
        },
        "id": "x3490xZ7yduH",
        "outputId": "8c1a576c-f72d-44cb-e289-5c466e3f757d"
      },
      "execution_count": 7,
      "outputs": [
        {
          "output_type": "stream",
          "name": "stdout",
          "text": [
            "Enter the number of customers: 4\n",
            "Enter height in inches for customer 1: 150\n",
            "Enter height in inches for customer 2: 155\n",
            "Enter height in inches for customer 3: 145\n",
            "Enter height in inches for customer 4: 148\n",
            "Heights in centimeters: [381.0, 393.7, 368.3, 375.92]\n"
          ]
        }
      ]
    }
  ]
}